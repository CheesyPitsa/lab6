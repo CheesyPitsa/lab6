{
 "cells": [
  {
   "cell_type": "code",
   "execution_count": 1,
   "id": "673aa1de-126f-4a67-928e-39fd80d04b6b",
   "metadata": {},
   "outputs": [],
   "source": [
    "import torch"
   ]
  },
  {
   "cell_type": "code",
   "execution_count": 2,
   "id": "e786f640-7e16-42ef-b4cc-5ad8884e9014",
   "metadata": {},
   "outputs": [],
   "source": [
    "from transformers import (T5ForConditionalGeneration, T5Tokenizer)\n",
    "\n",
    "tokenizer = T5Tokenizer.from_pretrained('CheesyPitsa/5chobanov')\n",
    "model = T5ForConditionalGeneration.from_pretrained('CheesyPitsa/5chobanov')"
   ]
  },
  {
   "cell_type": "code",
   "execution_count": 3,
   "id": "b8f20aed-ba73-4db3-a4e6-6e33570d6d74",
   "metadata": {},
   "outputs": [],
   "source": [
    "def get_sql(query,tokenizer,model):\n",
    "    source_text= \"English to SQL: \" + query\n",
    "    source_text = ' '.join(source_text.split())\n",
    "    source = tokenizer.batch_encode_plus([source_text],max_length= 128, pad_to_max_length=True, truncation=True, padding=\"max_length\", return_tensors='pt')\n",
    "    source_ids = source['input_ids']\n",
    "    source_mask = source['attention_mask']\n",
    "    generated_ids = model.generate(\n",
    "      input_ids = source_ids.to(dtype=torch.long),\n",
    "      attention_mask = source_mask.to(dtype=torch.long), \n",
    "      max_length=150, \n",
    "      num_beams=2,\n",
    "      repetition_penalty=2.5, \n",
    "      length_penalty=1.0, \n",
    "      early_stopping=True\n",
    "      )\n",
    "    preds = [tokenizer.decode(g, skip_special_tokens=True, clean_up_tokenization_spaces=True) for g in generated_ids]\n",
    "    return preds"
   ]
  },
  {
   "cell_type": "code",
   "execution_count": 9,
   "id": "90e385dd-fa96-484f-ac7b-27f9b15a8ea9",
   "metadata": {},
   "outputs": [
    {
     "name": "stdout",
     "output_type": "stream",
     "text": [
      "['SELECT ID WHERE registered']\n"
     ]
    }
   ],
   "source": [
    "query=\"List the id of students who registered\" #Сюда вводится запрос в виде текста\n",
    "sql = get_sql(query,tokenizer,model)\n",
    "print(sql)"
   ]
  },
  {
   "cell_type": "code",
   "execution_count": null,
   "id": "05c6cfe7-3cb9-4786-b954-5bdcefe9d282",
   "metadata": {},
   "outputs": [],
   "source": [
    "query=\"Show people who have 9 fingers\" #Сюда вводится запрос в виде текста\n",
    "sql = get_sql(query,tokenizer,model)\n",
    "print(sql)\n"
   ]
  }
 ],
 "metadata": {
  "kernelspec": {
   "display_name": "Python 3 (ipykernel)",
   "language": "python",
   "name": "python3"
  },
  "language_info": {
   "codemirror_mode": {
    "name": "ipython",
    "version": 3
   },
   "file_extension": ".py",
   "mimetype": "text/x-python",
   "name": "python",
   "nbconvert_exporter": "python",
   "pygments_lexer": "ipython3",
   "version": "3.8.10"
  }
 },
 "nbformat": 4,
 "nbformat_minor": 5
}
